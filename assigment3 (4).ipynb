{
 "cells": [
  {
   "cell_type": "markdown",
   "metadata": {},
   "source": [
    "# Q1:"
   ]
  },
  {
   "cell_type": "markdown",
   "metadata": {},
   "source": [
    "Think of at least three kinds of your favorite pizza. Store these pizza names in a list, and then use a for loop to print the name of each pizza."
   ]
  },
  {
   "cell_type": "code",
   "execution_count": 2,
   "metadata": {},
   "outputs": [],
   "source": [
    "pizza=[\"fajita sicilian\", \"cheese lover\", \"spicy ranch\"]"
   ]
  },
  {
   "cell_type": "code",
   "execution_count": 3,
   "metadata": {},
   "outputs": [
    {
     "name": "stdout",
     "output_type": "stream",
     "text": [
      "pizza:\n",
      "fajita sicilian\n",
      "cheese lover\n",
      "spicy ranch\n"
     ]
    }
   ],
   "source": [
    "print(\"pizza:\")\n",
    "for i in pizza:\n",
    "    print(i)"
   ]
  },
  {
   "cell_type": "code",
   "execution_count": null,
   "metadata": {},
   "outputs": [],
   "source": []
  },
  {
   "cell_type": "markdown",
   "metadata": {},
   "source": [
    "# Q2"
   ]
  },
  {
   "cell_type": "markdown",
   "metadata": {},
   "source": [
    "Start with your last question , Modify your for loop to print a sentence using the name of the pizza\n",
    "instead of printing just the name of the pizza. For each pizza you should\n",
    "have one line of output containing a simple statement like I like pepperoni\n",
    "pizza."
   ]
  },
  {
   "cell_type": "code",
   "execution_count": 5,
   "metadata": {},
   "outputs": [
    {
     "name": "stdout",
     "output_type": "stream",
     "text": [
      "['fajita sicilian', 'cheese lover', 'spicy ranch']\n"
     ]
    }
   ],
   "source": [
    "print(pizza)"
   ]
  },
  {
   "cell_type": "code",
   "execution_count": 6,
   "metadata": {},
   "outputs": [
    {
     "name": "stdout",
     "output_type": "stream",
     "text": [
      "I like fajita sicilian\n",
      "I like cheese lover\n",
      "I like spicy ranch\n"
     ]
    }
   ],
   "source": [
    "for i in pizza:\n",
    "    print(f\"I like {i}\")\n",
    "    "
   ]
  },
  {
   "cell_type": "code",
   "execution_count": null,
   "metadata": {},
   "outputs": [],
   "source": []
  },
  {
   "cell_type": "markdown",
   "metadata": {},
   "source": [
    "# Q3:"
   ]
  },
  {
   "cell_type": "markdown",
   "metadata": {},
   "source": [
    "Use a for loop to print the numbers from 1 to 20,\n",
    "inclusive."
   ]
  },
  {
   "cell_type": "code",
   "execution_count": 10,
   "metadata": {},
   "outputs": [
    {
     "name": "stdout",
     "output_type": "stream",
     "text": [
      "1\n",
      "2\n",
      "3\n",
      "4\n",
      "5\n",
      "6\n",
      "7\n",
      "8\n",
      "9\n",
      "10\n",
      "11\n",
      "12\n",
      "13\n",
      "14\n",
      "15\n",
      "16\n",
      "17\n",
      "18\n",
      "19\n",
      "20\n"
     ]
    }
   ],
   "source": [
    "for num in range(1,21):\n",
    "    print(num)"
   ]
  },
  {
   "cell_type": "code",
   "execution_count": null,
   "metadata": {},
   "outputs": [],
   "source": []
  },
  {
   "cell_type": "code",
   "execution_count": null,
   "metadata": {},
   "outputs": [],
   "source": []
  },
  {
   "cell_type": "markdown",
   "metadata": {},
   "source": [
    "# Q4:"
   ]
  },
  {
   "cell_type": "markdown",
   "metadata": {},
   "source": [
    "Use the third argument of the range() function to make a list\n",
    "of the odd numbers from 1 to 20. Use a for loop to print each number."
   ]
  },
  {
   "cell_type": "code",
   "execution_count": 13,
   "metadata": {},
   "outputs": [
    {
     "name": "stdout",
     "output_type": "stream",
     "text": [
      "odd numbers from 1 to 20 are:\n",
      "1 3 5 7 9 11 13 15 17 19 "
     ]
    }
   ],
   "source": [
    "print(\"odd numbers from 1 to 20 are:\")\n",
    "for num in range(1,21,2):\n",
    "    print(num,end=\" \")"
   ]
  },
  {
   "cell_type": "code",
   "execution_count": null,
   "metadata": {},
   "outputs": [],
   "source": []
  },
  {
   "cell_type": "code",
   "execution_count": null,
   "metadata": {},
   "outputs": [],
   "source": []
  },
  {
   "cell_type": "markdown",
   "metadata": {},
   "source": [
    "# Q5:"
   ]
  },
  {
   "cell_type": "markdown",
   "metadata": {},
   "source": [
    "Make a list of the multiples of 3 from 3 to 30. Use a for loop to\n",
    "print the numbers in your list."
   ]
  },
  {
   "cell_type": "code",
   "execution_count": 16,
   "metadata": {},
   "outputs": [
    {
     "name": "stdout",
     "output_type": "stream",
     "text": [
      "3 6 9 12 15 18 21 24 27 30 "
     ]
    }
   ],
   "source": [
    "for i in range(3,31,3):\n",
    "    print(i,end=\" \")"
   ]
  },
  {
   "cell_type": "code",
   "execution_count": null,
   "metadata": {},
   "outputs": [],
   "source": []
  },
  {
   "cell_type": "code",
   "execution_count": null,
   "metadata": {},
   "outputs": [],
   "source": []
  },
  {
   "cell_type": "code",
   "execution_count": null,
   "metadata": {},
   "outputs": [],
   "source": []
  },
  {
   "cell_type": "markdown",
   "metadata": {},
   "source": [
    "# Q6:"
   ]
  },
  {
   "cell_type": "markdown",
   "metadata": {},
   "source": [
    "A number raised to the third power is called a cube. For example,\n",
    "the cube of 2 is written as 2**3 in Python. Make a list of the first 10 cubes (that\n",
    "is, the cube of each integer from 1 through 10), and use a for loop to print out\n",
    "the value of each cube"
   ]
  },
  {
   "cell_type": "code",
   "execution_count": 2,
   "metadata": {},
   "outputs": [
    {
     "name": "stdout",
     "output_type": "stream",
     "text": [
      "cubes are:\n"
     ]
    },
    {
     "data": {
      "text/plain": [
       "[1, 4, 9, 16, 25, 36, 49, 64, 81, 100]"
      ]
     },
     "execution_count": 2,
     "metadata": {},
     "output_type": "execute_result"
    }
   ],
   "source": [
    "print(\"cubes are:\")\n",
    "cubes=[1,2,3,4,5,6,7,8,9,10]\n",
    "values=[]\n",
    "for num in cubes:\n",
    "    values.append(num**2)\n",
    "values\n"
   ]
  },
  {
   "cell_type": "code",
   "execution_count": null,
   "metadata": {},
   "outputs": [],
   "source": []
  },
  {
   "cell_type": "code",
   "execution_count": null,
   "metadata": {},
   "outputs": [],
   "source": []
  },
  {
   "cell_type": "code",
   "execution_count": null,
   "metadata": {},
   "outputs": [],
   "source": []
  },
  {
   "cell_type": "markdown",
   "metadata": {},
   "source": [
    "# Q7:"
   ]
  },
  {
   "cell_type": "markdown",
   "metadata": {},
   "source": [
    "###### Make a python program that conatains your nine favourite dishes in a list called foods.\n",
    "\n",
    "###### Print the message, The first three items in the list are:. \n",
    "###### Then use a slice to print the first three items from that program’s list.\n",
    "\n",
    "###### Print the message, Three items from the middle of the list are:\n",
    "###### Use a slice to print three items from the middle of the list.\n",
    "\n",
    "###### Print the message, The last three items in the list are:\n",
    "###### Use a slice to print the last three items in the list."
   ]
  },
  {
   "cell_type": "code",
   "execution_count": 3,
   "metadata": {},
   "outputs": [],
   "source": [
    "foods=['biryani','qourma','chicken tikka','haleem','karhai ghost','chicken pilao','chinese rise','pizza','burger']"
   ]
  },
  {
   "cell_type": "code",
   "execution_count": 4,
   "metadata": {},
   "outputs": [
    {
     "name": "stdout",
     "output_type": "stream",
     "text": [
      "the first three items in the list are\n"
     ]
    },
    {
     "data": {
      "text/plain": [
       "['biryani', 'qourma', 'chicken tikka']"
      ]
     },
     "execution_count": 4,
     "metadata": {},
     "output_type": "execute_result"
    }
   ],
   "source": [
    "print('the first three items in the list are')\n",
    "foods[0:3]"
   ]
  },
  {
   "cell_type": "code",
   "execution_count": 5,
   "metadata": {},
   "outputs": [
    {
     "name": "stdout",
     "output_type": "stream",
     "text": [
      "three items from the middle of the list are\n"
     ]
    },
    {
     "data": {
      "text/plain": [
       "['haleem', 'karhai ghost', 'chicken pilao']"
      ]
     },
     "execution_count": 5,
     "metadata": {},
     "output_type": "execute_result"
    }
   ],
   "source": [
    "print('three items from the middle of the list are')\n",
    "foods[3:6]"
   ]
  },
  {
   "cell_type": "code",
   "execution_count": 7,
   "metadata": {},
   "outputs": [
    {
     "name": "stdout",
     "output_type": "stream",
     "text": [
      "the last three items are\n"
     ]
    },
    {
     "data": {
      "text/plain": [
       "['chinese rise', 'pizza', 'burger']"
      ]
     },
     "execution_count": 7,
     "metadata": {},
     "output_type": "execute_result"
    }
   ],
   "source": [
    "print('the last three items are')\n",
    "foods[6:9]"
   ]
  },
  {
   "cell_type": "code",
   "execution_count": null,
   "metadata": {},
   "outputs": [],
   "source": []
  },
  {
   "cell_type": "code",
   "execution_count": null,
   "metadata": {},
   "outputs": [],
   "source": []
  },
  {
   "cell_type": "code",
   "execution_count": null,
   "metadata": {},
   "outputs": [],
   "source": []
  },
  {
   "cell_type": "markdown",
   "metadata": {},
   "source": [
    "# Q8:"
   ]
  },
  {
   "cell_type": "markdown",
   "metadata": {},
   "source": [
    "### Start with your program from your last Question8.\n",
    "###### Make a copy of the list of foods, and call it friend_foods.\n",
    "###### Then, do the following:\n",
    "######    Add a new dish to the original list.\n",
    "######    Add a different dish to the list friend_foodss.\n",
    "######    Prove that you have two separate lists. \n",
    "###### Print the message, My favorite pizzas are: and then use a for loop to print the first list. \n",
    "###### Print the message,\n",
    "###### My friend’s favorite foods are:, and then use a for loop to print the second list.\n",
    "    \n",
    "##### NOTE: Make sure each new dish is stored in the appropriate list."
   ]
  },
  {
   "cell_type": "code",
   "execution_count": 9,
   "metadata": {},
   "outputs": [],
   "source": [
    "friend_foods=foods.copy()"
   ]
  },
  {
   "cell_type": "code",
   "execution_count": 12,
   "metadata": {},
   "outputs": [],
   "source": [
    "foods.append('pasta')"
   ]
  },
  {
   "cell_type": "code",
   "execution_count": 13,
   "metadata": {},
   "outputs": [],
   "source": [
    "friend_foods.append('burger')"
   ]
  },
  {
   "cell_type": "code",
   "execution_count": 14,
   "metadata": {},
   "outputs": [
    {
     "name": "stdout",
     "output_type": "stream",
     "text": [
      "my favourite dishes are:\n",
      "biryani\n",
      "qourma\n",
      "chicken tikka\n",
      "haleem\n",
      "karhai ghost\n",
      "chicken pilao\n",
      "chinese rise\n",
      "pizza\n",
      "burger\n",
      "pizza\n",
      "pasta\n"
     ]
    }
   ],
   "source": [
    "print('my favourite dishes are:')\n",
    "for food in foods:\n",
    "    print(food)"
   ]
  },
  {
   "cell_type": "code",
   "execution_count": 17,
   "metadata": {},
   "outputs": [
    {
     "name": "stdout",
     "output_type": "stream",
     "text": [
      "my friends's favourite dishes are\n",
      "biryani\n",
      "qourma\n",
      "chicken tikka\n",
      "haleem\n",
      "karhai ghost\n",
      "chicken pilao\n",
      "chinese rise\n",
      "pizza\n",
      "burger\n",
      "pasta\n",
      "burger\n"
     ]
    }
   ],
   "source": [
    "print('my friends\\'s favourite dishes are')\n",
    "for dish in friend_foods:\n",
    "      print(dish)"
   ]
  },
  {
   "cell_type": "code",
   "execution_count": null,
   "metadata": {},
   "outputs": [],
   "source": [
    " "
   ]
  },
  {
   "cell_type": "code",
   "execution_count": null,
   "metadata": {},
   "outputs": [],
   "source": []
  },
  {
   "cell_type": "markdown",
   "metadata": {},
   "source": [
    "# Q9:"
   ]
  },
  {
   "cell_type": "markdown",
   "metadata": {},
   "source": [
    "Take a user input from console line.Store it in a variable called Alien_color.\n",
    "\n",
    "If the alien’s color is red, print a statement that the player just earned 5 points for shooting the alien.\n",
    "\n",
    "If the alien’s color isn’t green, print a statement that the player just earned 10 points.\n",
    "\n",
    "If the alien's color isn't red or green , print a statment :, Alien is no more....."
   ]
  },
  {
   "cell_type": "code",
   "execution_count": 18,
   "metadata": {},
   "outputs": [
    {
     "name": "stdout",
     "output_type": "stream",
     "text": [
      "Enter a color name: red\n",
      "You have earned just 5 points for shooting the alien \n"
     ]
    }
   ],
   "source": [
    "Alien_color = input('Enter a color name: ').lower()\n",
    "if Alien_color == 'red':\n",
    "    print('You have earned just 5 points for shooting the alien ')\n",
    "elif Alien_color == 'green':\n",
    "    print('You have earned just 10 points')\n",
    "else:\n",
    "    print('Alien is no more')"
   ]
  },
  {
   "cell_type": "code",
   "execution_count": 19,
   "metadata": {},
   "outputs": [
    {
     "name": "stdout",
     "output_type": "stream",
     "text": [
      "Enter a color name: green\n",
      "You have earned just 10 points\n"
     ]
    }
   ],
   "source": [
    "Alien_color = input('Enter a color name: ').lower()\n",
    "if Alien_color == 'red':\n",
    "    print('You have earned just 5 points for shooting the alien ')\n",
    "elif Alien_color == 'green':\n",
    "    print('You have earned just 10 points')\n",
    "else:\n",
    "    print('Alien is no more')"
   ]
  },
  {
   "cell_type": "code",
   "execution_count": 20,
   "metadata": {},
   "outputs": [
    {
     "name": "stdout",
     "output_type": "stream",
     "text": [
      "Enter a color name: yellow\n",
      "Alien is no more\n"
     ]
    }
   ],
   "source": [
    "Alien_color = input('Enter a color name: ').lower()\n",
    "if Alien_color == 'red':\n",
    "    print('You have earned just 5 points for shooting the alien ')\n",
    "elif Alien_color == 'green':\n",
    "    print('You have earned just 10 points')\n",
    "else:\n",
    "    print('Alien is no more')"
   ]
  },
  {
   "cell_type": "code",
   "execution_count": null,
   "metadata": {},
   "outputs": [],
   "source": []
  },
  {
   "cell_type": "markdown",
   "metadata": {},
   "source": [
    "# Q10:"
   ]
  },
  {
   "cell_type": "markdown",
   "metadata": {},
   "source": [
    "Write an if-elif-else chain that determines a person’s\n",
    "stage of life. Set a value for the variable age, and then:\n",
    "    \n",
    "•\t If the person is less than 2 years old, print a message that the person is a baby.\n",
    "\n",
    "•\t If the person is at least 2 years old but less than 4, print a message that the person is a toddler.\n",
    "\n",
    "•\t If the person is at least 4 years old but less than 13, print a message that the person is a kid.\n",
    "\n",
    "•\t If the person is at least 13 years old but less than 20, print a message that the person is a teenager.\n",
    "\n",
    "•\t If the person is at least 20 years old but less than 65, print a message that the person is an adult.\n",
    "\n",
    "•\t If the person is age 65 or older, print a message that the person is an elder."
   ]
  },
  {
   "cell_type": "code",
   "execution_count": 21,
   "metadata": {},
   "outputs": [
    {
     "name": "stdout",
     "output_type": "stream",
     "text": [
      "Enter your age and determine the status of your life: 1\n",
      "You are baby \n"
     ]
    }
   ],
   "source": [
    "human_age = int(input('Enter your age and determine the status of your life: '))\n",
    "if human_age<2:\n",
    "    print('You are baby ')\n",
    "elif human_age >=2 and human_age<4:\n",
    "    print('You are toddler')\n",
    "elif human_age >=4 and human_age<13:\n",
    "    print('You are kid')\n",
    "elif human_age >=13 and human_age<20:\n",
    "    print('You are teenager')\n",
    "elif human_age>=20 and human_age<65:\n",
    "    print('You are an adult')\n",
    "else:\n",
    "    print('You are an elder')"
   ]
  },
  {
   "cell_type": "code",
   "execution_count": 22,
   "metadata": {},
   "outputs": [
    {
     "name": "stdout",
     "output_type": "stream",
     "text": [
      "Enter your age and determine the status of your life: 2\n",
      "You are toddler\n"
     ]
    }
   ],
   "source": [
    "human_age = int(input('Enter your age and determine the status of your life: '))\n",
    "if human_age<2:\n",
    "    print('You are baby ')\n",
    "elif human_age >=2 and human_age<4:\n",
    "    print('You are toddler')\n",
    "elif human_age >=4 and human_age<13:\n",
    "    print('You are kid')\n",
    "elif human_age >=13 and human_age<20:\n",
    "    print('You are teenager')\n",
    "elif human_age>=20 and human_age<65:\n",
    "    print('You are an adult')\n",
    "else:\n",
    "    print('You are an elder')"
   ]
  },
  {
   "cell_type": "code",
   "execution_count": 23,
   "metadata": {},
   "outputs": [
    {
     "name": "stdout",
     "output_type": "stream",
     "text": [
      "Enter your age and determine the status of your life: 8\n",
      "You are kid\n"
     ]
    }
   ],
   "source": [
    "human_age = int(input('Enter your age and determine the status of your life: '))\n",
    "if human_age<2:\n",
    "    print('You are baby ')\n",
    "elif human_age >=2 and human_age<4:\n",
    "    print('You are toddler')\n",
    "elif human_age >=4 and human_age<13:\n",
    "    print('You are kid')\n",
    "elif human_age >=13 and human_age<20:\n",
    "    print('You are teenager')\n",
    "elif human_age>=20 and human_age<65:\n",
    "    print('You are an adult')\n",
    "else:\n",
    "    print('You are an elder')"
   ]
  },
  {
   "cell_type": "code",
   "execution_count": 24,
   "metadata": {},
   "outputs": [
    {
     "name": "stdout",
     "output_type": "stream",
     "text": [
      "Enter your age and determine the status of your life: 19\n",
      "You are teenager\n"
     ]
    }
   ],
   "source": [
    "human_age = int(input('Enter your age and determine the status of your life: '))\n",
    "if human_age<2:\n",
    "    print('You are baby ')\n",
    "elif human_age >=2 and human_age<4:\n",
    "    print('You are toddler')\n",
    "elif human_age >=4 and human_age<13:\n",
    "    print('You are kid')\n",
    "elif human_age >=13 and human_age<20:\n",
    "    print('You are teenager')\n",
    "elif human_age>=20 and human_age<65:\n",
    "    print('You are an adult')\n",
    "else:\n",
    "    print('You are an elder')"
   ]
  },
  {
   "cell_type": "code",
   "execution_count": 25,
   "metadata": {},
   "outputs": [
    {
     "name": "stdout",
     "output_type": "stream",
     "text": [
      "Enter your age and determine the status of your life: 45\n",
      "You are an adult\n"
     ]
    }
   ],
   "source": [
    "human_age = int(input('Enter your age and determine the status of your life: '))\n",
    "if human_age<2:\n",
    "    print('You are baby ')\n",
    "elif human_age >=2 and human_age<4:\n",
    "    print('You are toddler')\n",
    "elif human_age >=4 and human_age<13:\n",
    "    print('You are kid')\n",
    "elif human_age >=13 and human_age<20:\n",
    "    print('You are teenager')\n",
    "elif human_age>=20 and human_age<65:\n",
    "    print('You are an adult')\n",
    "else:\n",
    "    print('You are an elder')"
   ]
  },
  {
   "cell_type": "code",
   "execution_count": 26,
   "metadata": {},
   "outputs": [
    {
     "name": "stdout",
     "output_type": "stream",
     "text": [
      "Enter your age and determine the status of your life: 90\n",
      "You are an elder\n"
     ]
    }
   ],
   "source": [
    "human_age = int(input('Enter your age and determine the status of your life: '))\n",
    "if human_age<2:\n",
    "    print('You are baby ')\n",
    "elif human_age >=2 and human_age<4:\n",
    "    print('You are toddler')\n",
    "elif human_age >=4 and human_age<13:\n",
    "    print('You are kid')\n",
    "elif human_age >=13 and human_age<20:\n",
    "    print('You are teenager')\n",
    "elif human_age>=20 and human_age<65:\n",
    "    print('You are an adult')\n",
    "else:\n",
    "    print('You are an elder')"
   ]
  },
  {
   "cell_type": "markdown",
   "metadata": {},
   "source": [
    "# Q11:"
   ]
  },
  {
   "cell_type": "markdown",
   "metadata": {},
   "source": [
    "Do the following to create a program that simulates how websites ensure that everyone has a unique username.\n",
    "\n",
    "•\t Make a list of five or more usernames called current_users.\n",
    "\n",
    "•\t Make another list of five usernames called new_users. \n",
    "Make sure one or two of the new usernames are also in the current_users list.\n",
    "\n",
    "•\t Loop through the new_users list to see if each new username has already been used. \n",
    "If it has, print a message that the person will need to enter a new username. \n",
    "If a username has not been used, print a message saying that the username is available.\n",
    "\n",
    "•\t Make sure your comparison is case insensitive. If 'John' has been used, 'JOHN' should not be accepted."
   ]
  },
  {
   "cell_type": "code",
   "execution_count": 29,
   "metadata": {},
   "outputs": [],
   "source": [
    "current_users = ['bisma','maryam','taha','ahsan','rahib']\n",
    "new_users = ['aryan','ayesha','rahib','bisma','saad']"
   ]
  },
  {
   "cell_type": "code",
   "execution_count": 30,
   "metadata": {},
   "outputs": [
    {
     "name": "stdout",
     "output_type": "stream",
     "text": [
      "aryan username is available\n",
      "ayesha username is available\n",
      "rahib username is not available, Please change your name\n",
      "bisma username is not available, Please change your name\n",
      "saad username is available\n"
     ]
    }
   ],
   "source": [
    "for name in new_users:\n",
    "    if name in current_users:\n",
    "        print(f'{name} username is not available, Please change your name')\n",
    "    else:\n",
    "        print(f'{name} username is available')"
   ]
  },
  {
   "cell_type": "code",
   "execution_count": null,
   "metadata": {},
   "outputs": [],
   "source": []
  },
  {
   "cell_type": "code",
   "execution_count": null,
   "metadata": {},
   "outputs": [],
   "source": []
  },
  {
   "cell_type": "markdown",
   "metadata": {},
   "source": [
    "# Q12:"
   ]
  },
  {
   "cell_type": "markdown",
   "metadata": {},
   "source": [
    "Use a dictionary to store information about a person you know.\n",
    "Store their first name, last name, age, and the city in which they live. \n",
    "You should have keys such as first_name, last_name, age, and city. \n",
    "Print each piece of information stored in your dictionary"
   ]
  },
  {
   "cell_type": "code",
   "execution_count": 31,
   "metadata": {},
   "outputs": [
    {
     "name": "stdout",
     "output_type": "stream",
     "text": [
      "first_name Bisma\n",
      "last_name Nadeem\n",
      "age 19\n",
      "city Karachi\n"
     ]
    }
   ],
   "source": [
    "person_info = {'first_name':\"Bisma\", 'last_name':\"Nadeem\", 'age':19, 'city':\"Karachi\"}\n",
    "for a,b in person_info.items():\n",
    "    print(a,b)"
   ]
  },
  {
   "cell_type": "code",
   "execution_count": null,
   "metadata": {},
   "outputs": [],
   "source": []
  },
  {
   "cell_type": "code",
   "execution_count": null,
   "metadata": {},
   "outputs": [],
   "source": []
  },
  {
   "cell_type": "code",
   "execution_count": null,
   "metadata": {},
   "outputs": [],
   "source": []
  },
  {
   "cell_type": "markdown",
   "metadata": {},
   "source": [
    "# Q13:"
   ]
  },
  {
   "cell_type": "markdown",
   "metadata": {},
   "source": [
    "Starts with your last question 12 , loop through the dictionary’s keys and values.\n",
    "When you’re sure that your loop works, add five more Python terms to your\n",
    "dictionary . When you run your program again, these new words and meanings\n",
    "should automatically be included in the output."
   ]
  },
  {
   "cell_type": "code",
   "execution_count": 32,
   "metadata": {},
   "outputs": [
    {
     "name": "stdout",
     "output_type": "stream",
     "text": [
      "first_name Bisma\n",
      "last_name Nadeem\n",
      "age 19\n",
      "city Karachi\n"
     ]
    }
   ],
   "source": [
    "for x,y in person_info.items():\n",
    "    print(x,y)"
   ]
  },
  {
   "cell_type": "code",
   "execution_count": 34,
   "metadata": {},
   "outputs": [],
   "source": [
    "person_info['degree']=\"Inter\"\n",
    "person_info['language']=\"Urdu\"\n",
    "person_info['favourite_dish']=\"chinese\"\n",
    "person_info['favourite_sports']=\"Cricket\""
   ]
  },
  {
   "cell_type": "code",
   "execution_count": 35,
   "metadata": {},
   "outputs": [
    {
     "name": "stdout",
     "output_type": "stream",
     "text": [
      "first_name Bisma\n",
      "last_name Nadeem\n",
      "age 19\n",
      "city Karachi\n",
      "degree Inter\n",
      "language Urdu\n",
      "favourite_dish chinese\n",
      "favourite_sports Cricket\n"
     ]
    }
   ],
   "source": [
    "for b,c in person_info.items():\n",
    "    print(b,c)"
   ]
  },
  {
   "cell_type": "code",
   "execution_count": null,
   "metadata": {},
   "outputs": [],
   "source": []
  },
  {
   "cell_type": "code",
   "execution_count": null,
   "metadata": {},
   "outputs": [],
   "source": []
  },
  {
   "cell_type": "markdown",
   "metadata": {},
   "source": [
    "# Q14:"
   ]
  },
  {
   "cell_type": "markdown",
   "metadata": {},
   "source": [
    "Make a dictionary containing three major rivers and the country\n",
    "each river runs through. One key-value pair might be 'nile': 'egypt'.\n",
    "    \n",
    "    \n",
    "•\t Use a loop to print a sentence about each river, such as The Nile runs\n",
    "through Egypt.\n",
    "\n",
    "NOTE: use upper case through keys and values."
   ]
  },
  {
   "cell_type": "code",
   "execution_count": 36,
   "metadata": {},
   "outputs": [
    {
     "name": "stdout",
     "output_type": "stream",
     "text": [
      "The INDUS RIVER runs through PAKISTAN.\n",
      "The NILE runs through EGYPT.\n",
      "The AMAZON RIVER runs through BRAZIL.\n",
      "The YELLOW RIVER runs through CHINA.\n"
     ]
    }
   ],
   "source": [
    "rivers = {'Indus River':'Pakistan','Nile':'Egypt','Amazon River':'Brazil','Yellow River':'China'}\n",
    "for key,value in rivers.items():\n",
    "    print(f\"The {key.upper()} runs through {value.upper()}.\")"
   ]
  },
  {
   "cell_type": "code",
   "execution_count": null,
   "metadata": {},
   "outputs": [],
   "source": []
  },
  {
   "cell_type": "code",
   "execution_count": null,
   "metadata": {},
   "outputs": [],
   "source": []
  },
  {
   "cell_type": "markdown",
   "metadata": {},
   "source": [
    "# Q15:"
   ]
  },
  {
   "cell_type": "markdown",
   "metadata": {},
   "source": [
    "Make several dictionaries, where the name of each dictionary is the\n",
    "name of a pet. In each dictionary, include the kind of animal and the owner’s\n",
    "name. Store these dictionaries in a list called pets. Next, loop through your list\n",
    "and as you do print everything you know about each pet."
   ]
  },
  {
   "cell_type": "code",
   "execution_count": 37,
   "metadata": {},
   "outputs": [
    {
     "name": "stdout",
     "output_type": "stream",
     "text": [
      "{'Animal Type': 'Cat', 'Owner Name': 'Bisma Nadeem'}\n",
      "{'Animal Type': 'Dog', 'Owner Name': 'Rahib Waseem'}\n",
      "{'Animal Type': 'Dog', 'Owner Name': 'Taha Nadeem'}\n"
     ]
    }
   ],
   "source": [
    "kitten = {'Animal Type':\"Cat\",'Owner Name':\"Bisma Nadeem\"}\n",
    "puppy = {'Animal Type':\"Dog\",'Owner Name':\"Rahib Waseem\"}\n",
    "dog = {'Animal Type':\"Dog\",'Owner Name':\"Taha Nadeem\"}\n",
    "pets = [kitten,puppy,dog]\n",
    "for pet in pets:\n",
    "    print(pet)"
   ]
  },
  {
   "cell_type": "code",
   "execution_count": null,
   "metadata": {},
   "outputs": [],
   "source": []
  }
 ],
 "metadata": {
  "kernelspec": {
   "display_name": "Python 3",
   "language": "python",
   "name": "python3"
  },
  "language_info": {
   "codemirror_mode": {
    "name": "ipython",
    "version": 3
   },
   "file_extension": ".py",
   "mimetype": "text/x-python",
   "name": "python",
   "nbconvert_exporter": "python",
   "pygments_lexer": "ipython3",
   "version": "3.7.3"
  }
 },
 "nbformat": 4,
 "nbformat_minor": 2
}
